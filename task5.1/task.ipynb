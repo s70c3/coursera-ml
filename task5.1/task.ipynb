{
 "cells": [
  {
   "cell_type": "code",
   "execution_count": 15,
   "metadata": {},
   "outputs": [],
   "source": [
    "import pandas as pd\n",
    "import numpy as np\n",
    "\n",
    "from sklearn.ensemble import RandomForestRegressor\n",
    "from sklearn.metrics import r2_score\n",
    "\n",
    "from sklearn.model_selection import KFold, cross_val_score"
   ]
  },
  {
   "cell_type": "code",
   "execution_count": 32,
   "metadata": {},
   "outputs": [],
   "source": [
    "#data preparation\n",
    "data = pd.read_csv('abalone.csv')\n",
    "data['Sex'] = data['Sex'].map(lambda x: 1 if x == 'M' else (-1 if x == 'F' else 0))\n",
    "y = data['Rings']\n",
    "X = data.loc[:,:'ShellWeight']"
   ]
  },
  {
   "cell_type": "code",
   "execution_count": 33,
   "metadata": {},
   "outputs": [],
   "source": []
  },
  {
   "cell_type": "code",
   "execution_count": null,
   "metadata": {},
   "outputs": [
    {
     "name": "stdout",
     "output_type": "stream",
     "text": [
      "1 0.11\n",
      "2 0.34\n",
      "3 0.41\n",
      "4 0.44\n",
      "5 0.47\n",
      "6 0.47\n",
      "7 0.48\n",
      "8 0.48\n",
      "9 0.49\n",
      "10 0.5\n",
      "11 0.49\n",
      "12 0.5\n",
      "13 0.5\n",
      "14 0.51\n",
      "15 0.51\n",
      "16 0.51\n",
      "17 0.51\n",
      "18 0.52\n",
      "19 0.52\n",
      "20 0.52\n",
      "21 0.52\n",
      "22 0.52\n",
      "23 0.52\n",
      "24 0.52\n",
      "25 0.52\n",
      "26 0.52\n",
      "27 0.52\n",
      "28 0.53\n",
      "29 0.53\n"
     ]
    }
   ],
   "source": [
    "for i in range(1,51):\n",
    "    generator = KFold(n_splits=5,shuffle=True, random_state=1)\n",
    "    clf = RandomForestRegressor(random_state=1, n_estimators=i)\n",
    "    quality = cross_val_score(X=X, y=y, estimator=clf, cv=generator, scoring='r2')\n",
    "\n",
    "    print(i, round(np.mean(quality), 2))"
   ]
  },
  {
   "cell_type": "code",
   "execution_count": null,
   "metadata": {},
   "outputs": [],
   "source": []
  }
 ],
 "metadata": {
  "kernelspec": {
   "display_name": "Python 3",
   "language": "python",
   "name": "python3"
  },
  "language_info": {
   "codemirror_mode": {
    "name": "ipython",
    "version": 3
   },
   "file_extension": ".py",
   "mimetype": "text/x-python",
   "name": "python",
   "nbconvert_exporter": "python",
   "pygments_lexer": "ipython3",
   "version": "3.7.1"
  }
 },
 "nbformat": 4,
 "nbformat_minor": 2
}
