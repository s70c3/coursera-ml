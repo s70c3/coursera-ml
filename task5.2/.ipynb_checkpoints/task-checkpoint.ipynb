{
 "cells": [
  {
   "cell_type": "code",
   "execution_count": 1,
   "metadata": {},
   "outputs": [],
   "source": [
    "import pandas as pd\n",
    "import numpy as np\n",
    "\n"
   ]
  },
  {
   "cell_type": "code",
   "execution_count": 4,
   "metadata": {},
   "outputs": [
    {
     "name": "stdout",
     "output_type": "stream",
     "text": [
      "   Activity        D1        D2    D3   D4        D5        D6        D7  \\\n",
      "0         1  0.000000  0.497009  0.10  0.0  0.132956  0.678031  0.273166   \n",
      "1         1  0.366667  0.606291  0.05  0.0  0.111209  0.803455  0.106105   \n",
      "2         1  0.033300  0.480124  0.00  0.0  0.209791  0.610350  0.356453   \n",
      "3         1  0.000000  0.538825  0.00  0.5  0.196344  0.724230  0.235606   \n",
      "4         0  0.100000  0.517794  0.00  0.0  0.494734  0.781422  0.154361   \n",
      "\n",
      "         D8        D9  ...    D1767  D1768  D1769  D1770  D1771  D1772  D1773  \\\n",
      "0  0.585445  0.743663  ...        0      0      0      0      0      0      0   \n",
      "1  0.411754  0.836582  ...        1      1      1      1      0      1      0   \n",
      "2  0.517720  0.679051  ...        0      0      0      0      0      0      0   \n",
      "3  0.288764  0.805110  ...        0      0      0      0      0      0      0   \n",
      "4  0.303809  0.812646  ...        0      0      0      0      0      0      0   \n",
      "\n",
      "   D1774  D1775  D1776  \n",
      "0      0      0      0  \n",
      "1      0      1      0  \n",
      "2      0      0      0  \n",
      "3      0      0      0  \n",
      "4      0      0      0  \n",
      "\n",
      "[5 rows x 1777 columns]\n"
     ]
    }
   ],
   "source": [
    "data = pd.read_csv('gbm-data.csv')\n",
    "arr = data.values"
   ]
  },
  {
   "cell_type": "code",
   "execution_count": 3,
   "metadata": {},
   "outputs": [
    {
     "name": "stdout",
     "output_type": "stream",
     "text": [
      "[[1.         0.         0.49700901 ... 0.         0.         0.        ]\n",
      " [1.         0.36666667 0.60629148 ... 0.         1.         0.        ]\n",
      " [1.         0.0333     0.48012427 ... 0.         0.         0.        ]\n",
      " ...\n",
      " [0.         0.2        0.52056377 ... 0.         0.         0.        ]\n",
      " [1.         0.1        0.7656462  ... 0.         0.         0.        ]\n",
      " [0.         0.13333333 0.53395198 ... 0.         0.         0.        ]]\n"
     ]
    }
   ],
   "source": [
    "X_train, X_test, y_train, y_test = \n",
    "                     train_test_split(X, y, \n",
    "                                      test_size=0.33, \n",
    "                                      random_state=42)"
   ]
  },
  {
   "cell_type": "code",
   "execution_count": null,
   "metadata": {},
   "outputs": [],
   "source": []
  }
 ],
 "metadata": {
  "kernelspec": {
   "display_name": "Python 3",
   "language": "python",
   "name": "python3"
  },
  "language_info": {
   "codemirror_mode": {
    "name": "ipython",
    "version": 3
   },
   "file_extension": ".py",
   "mimetype": "text/x-python",
   "name": "python",
   "nbconvert_exporter": "python",
   "pygments_lexer": "ipython3",
   "version": "3.7.1"
  }
 },
 "nbformat": 4,
 "nbformat_minor": 2
}
