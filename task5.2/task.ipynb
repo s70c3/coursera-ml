{
 "cells": [
  {
   "cell_type": "code",
   "execution_count": 52,
   "metadata": {},
   "outputs": [],
   "source": [
    "import pandas as pd\n",
    "import numpy as np\n",
    "import matplotlib.pyplot as plt\n",
    "\n",
    "from sklearn.model_selection import train_test_split\n",
    "from  sklearn.ensemble import GradientBoostingClassifier\n",
    "from sklearn.ensemble import RandomForestClassifier\n",
    "from sklearn.metrics import log_loss"
   ]
  },
  {
   "cell_type": "code",
   "execution_count": 35,
   "metadata": {},
   "outputs": [],
   "source": [
    "data = pd.read_csv('gbm-data.csv')\n",
    "y = data['Activity']\n",
    "X = data.loc[:,'D1':]\n",
    "Xa = np.array(X.values)\n",
    "Ya = np.array(y.values)"
   ]
  },
  {
   "cell_type": "code",
   "execution_count": 36,
   "metadata": {},
   "outputs": [],
   "source": [
    "X_train, X_test, y_train, y_test = train_test_split(Xa, Ya, test_size=0.8, random_state=241)"
   ]
  },
  {
   "cell_type": "code",
   "execution_count": 46,
   "metadata": {},
   "outputs": [
    {
     "name": "stdout",
     "output_type": "stream",
     "text": [
      "      Iter       Train Loss   Remaining Time \n",
      "         1           1.2613           22.43s\n",
      "         2           1.1715           18.86s\n",
      "         3           1.1009           18.37s\n",
      "         4           1.0529           19.66s\n",
      "         5           1.0130           18.66s\n",
      "         6           0.9740           19.52s\n",
      "         7           0.9475           19.03s\n",
      "         8           0.9197           18.49s\n",
      "         9           0.8979           17.70s\n",
      "        10           0.8730           18.09s\n",
      "        20           0.7207           15.97s\n",
      "        30           0.6055           16.14s\n",
      "        40           0.5244           14.76s\n",
      "        50           0.4501           13.72s\n",
      "        60           0.3908           12.75s\n",
      "        70           0.3372           11.89s\n",
      "        80           0.3009           11.11s\n",
      "        90           0.2603           10.31s\n",
      "       100           0.2327            9.64s\n",
      "       200           0.0835            3.21s\n"
     ]
    },
    {
     "data": {
      "image/png": "[encoded data removed]",
      "text/plain": [
       "<Figure size 432x288 with 1 Axes>"
      ]
     },
     "metadata": {
      "needs_background": "light"
     },
     "output_type": "display_data"
    }
   ],
   "source": [
    "\n",
    "train_a = []*5\n",
    "test_a = []*5\n",
    "\n",
    "for i in [0.2]:\n",
    "    clf = GradientBoostingClassifier(n_estimators=250, random_state=241, verbose=True, learning_rate=i)\n",
    "    clf.fit(X_train,y_train)\n",
    "    train = [log_loss(y_train, 1/(1+np.exp(-y_pred))) for y_pred in clf.staged_decision_function(X_train)]\n",
    "    test = [log_loss(y_test, 1/(1+np.exp(-y_pred))) for y_pred in clf.staged_decision_function(X_test)]\n",
    "    \n",
    "    %matplotlib inline\n",
    "    plt.figure()\n",
    "    plt.plot(train, 'r', linewidth=2)\n",
    "    plt.plot(test, 'g', linewidth=2)\n",
    "    plt.legend(['test', 'train'])\n",
    "    \n"
   ]
  },
  {
   "cell_type": "code",
   "execution_count": 48,
   "metadata": {},
   "outputs": [
    {
     "name": "stdout",
     "output_type": "stream",
     "text": [
      "0.531094637596885\n"
     ]
    }
   ],
   "source": [
    "#task 2\n",
    "min_value = min(test)\n",
    "print(min_value)\n",
    "for i in range(len(test)):\n",
    "    if test[i]==min_value:\n",
    "        print(i)"
   ]
  },
  {
   "cell_type": "code",
   "execution_count": 60,
   "metadata": {},
   "outputs": [
    {
     "name": "stdout",
     "output_type": "stream",
     "text": [
      "0.5410941951182815\n"
     ]
    }
   ],
   "source": [
    "clf = RandomForestClassifier(random_state=241, n_estimators=37)\n",
    "clf.fit(X_train, y_train)\n",
    "\n",
    "train = log_loss(y_test, clf.predict_proba(X_test))\n",
    "print(train)"
   ]
  },
  {
   "cell_type": "code",
   "execution_count": null,
   "metadata": {},
   "outputs": [],
   "source": []
  }
 ],
 "metadata": {
  "kernelspec": {
   "display_name": "Python 3",
   "language": "python",
   "name": "python3"
  },
  "language_info": {
   "codemirror_mode": {
    "name": "ipython",
    "version": 3
   },
   "file_extension": ".py",
   "mimetype": "text/x-python",
   "name": "python",
   "nbconvert_exporter": "python",
   "pygments_lexer": "ipython3",
   "version": "3.7.1"
  }
 },
 "nbformat": 4,
 "nbformat_minor": 2
}
