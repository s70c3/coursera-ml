{
 "cells": [
  {
   "cell_type": "code",
   "execution_count": 1,
   "metadata": {},
   "outputs": [
    {
     "name": "stderr",
     "output_type": "stream",
     "text": [
      "C:\\Program Files (x86)\\Microsoft Visual Studio\\Shared\\Anaconda3_64\\lib\\site-packages\\sklearn\\cross_validation.py:41: DeprecationWarning: This module was deprecated in version 0.18 in favor of the model_selection module into which all the refactored classes and functions are moved. Also note that the interface of the new CV iterators are different from that of this module. This module will be removed in 0.20.\n",
      "  \"This module will be removed in 0.20.\", DeprecationWarning)\n"
     ]
    }
   ],
   "source": [
    "import pandas\n",
    "import helpers\n",
    "import numpy as np\n",
    "import time\n",
    "import datetime\n",
    "import matplotlib.pyplot as plt\n",
    "from sklearn.cross_validation import KFold, cross_val_score, train_test_split\n",
    "from sklearn.ensemble import GradientBoostingClassifier\n",
    "from sklearn.metrics import roc_auc_score\n",
    "\n",
    "%matplotlib inline"
   ]
  },
  {
   "cell_type": "markdown",
   "metadata": {},
   "source": [
    "# Подход 1: градиентный бустинг \"в лоб\""
   ]
  },
  {
   "cell_type": "code",
   "execution_count": 1,
   "metadata": {},
   "outputs": [
    {
     "ename": "NameError",
     "evalue": "name 'helpers' is not defined",
     "output_type": "error",
     "traceback": [
      "\u001b[0;31m---------------------------------------------------------------------------\u001b[0m",
      "\u001b[0;31mNameError\u001b[0m                                 Traceback (most recent call last)",
      "\u001b[0;32m<ipython-input-1-57ad954dbc0c>\u001b[0m in \u001b[0;36m<module>\u001b[0;34m\u001b[0m\n\u001b[0;32m----> 1\u001b[0;31m \u001b[0mX\u001b[0m\u001b[0;34m,\u001b[0m \u001b[0my\u001b[0m\u001b[0;34m,\u001b[0m \u001b[0mX_kaggle\u001b[0m \u001b[0;34m=\u001b[0m \u001b[0mhelpers\u001b[0m\u001b[0;34m.\u001b[0m\u001b[0mget_clean_data\u001b[0m\u001b[0;34m(\u001b[0m\u001b[0;34m)\u001b[0m\u001b[0;34m\u001b[0m\u001b[0;34m\u001b[0m\u001b[0m\n\u001b[0m\u001b[1;32m      2\u001b[0m \u001b[0mkf\u001b[0m \u001b[0;34m=\u001b[0m \u001b[0mKFold\u001b[0m\u001b[0;34m(\u001b[0m\u001b[0my\u001b[0m\u001b[0;34m.\u001b[0m\u001b[0msize\u001b[0m\u001b[0;34m,\u001b[0m \u001b[0mn_folds\u001b[0m\u001b[0;34m=\u001b[0m\u001b[0;36m5\u001b[0m\u001b[0;34m,\u001b[0m \u001b[0mshuffle\u001b[0m\u001b[0;34m=\u001b[0m\u001b[0;32mTrue\u001b[0m\u001b[0;34m,\u001b[0m \u001b[0mrandom_state\u001b[0m\u001b[0;34m=\u001b[0m\u001b[0;36m42\u001b[0m\u001b[0;34m)\u001b[0m\u001b[0;34m\u001b[0m\u001b[0;34m\u001b[0m\u001b[0m\n",
      "\u001b[0;31mNameError\u001b[0m: name 'helpers' is not defined"
     ]
    }
   ],
   "source": [
    "X, y, X_kaggle = helpers.get_clean_data()\n",
    "kf = KFold(y.size, n_folds=5, shuffle=True, random_state=42)"
   ]
  },
  {
   "cell_type": "markdown",
   "metadata": {},
   "source": [
    "## Подбираем оптимальное число деревьев"
   ]
  },
  {
   "cell_type": "code",
   "execution_count": null,
   "metadata": {},
   "outputs": [
    {
     "name": "stdout",
     "output_type": "stream",
     "text": [
      "# 10\n",
      "Time elapsed: 0:00:39.919522\n",
      "[ 0.66383799  0.66635457  0.66360048  0.66529818  0.66516222]\n",
      "# 20\n",
      "Time elapsed: 0:01:05.264587\n",
      "[ 0.68083889  0.68272733  0.67969876  0.6834932   0.6855512 ]\n",
      "# 30\n",
      "Time elapsed: 0:01:31.364884\n",
      "[ 0.68892093  0.68934663  0.68712298  0.69180598  0.69283583]\n",
      "# 50\n",
      "Time elapsed: 0:02:25.890175\n",
      "[ 0.69627399  0.69747879  0.69470891  0.69921915  0.69979097]\n",
      "# 100\n",
      "Time elapsed: 0:04:38.996655\n",
      "[ 0.70515496  0.706077    0.70429951  0.7074682   0.70811523]\n",
      "# 250\n"
     ]
    }
   ],
   "source": [
    "scores = []\n",
    "nums = [10, 20, 30, 50, 100, 250]\n",
    "for n in nums:\n",
    "    print ('#', str(n))\n",
    "    model = GradientBoostingClassifier(n_estimators=n, random_state=42)\n",
    "    start_time = datetime.datetime.now()\n",
    "    model_scores = cross_val_score(model, X, y, cv=kf, scoring='roc_auc', n_jobs=-1)\n",
    "    print ('Time elapsed:', datetime.datetime.now() - start_time)\n",
    "    print (model_scores)\n",
    "    scores.append(np.mean(model_scores))"
   ]
  },
  {
   "cell_type": "code",
   "execution_count": null,
   "metadata": {},
   "outputs": [],
   "source": [
    "plt.plot(nums, scores)\n",
    "plt.xlabel('n_estimators')\n",
    "plt.ylabel('score')\n",
    "plt.show()"
   ]
  },
  {
   "cell_type": "markdown",
   "metadata": {},
   "source": [
    "Кросс-валидация для градиентного бустинга с 30 деревьями заняла 0:00:35. Показатель метрики качества AUC-ROC в таком случае равен 0.6998.\n",
    "\n",
    "Увеличение количества деревьев также увеличивает показатель метрики AUC-ROC, приближая его к 0.72. Для достижения большего качества имеет смысл использовать более 30 деревьев. Для ускорения обучения можно использовать не всю выборку, а некоторое ее подмножество — например, половину объектов. Также можно уменьшить глубину деревьев (max_depth)."
   ]
  },
  {
   "cell_type": "code",
   "execution_count": null,
   "metadata": {
    "collapsed": true
   },
   "outputs": [],
   "source": []
  },
  {
   "cell_type": "markdown",
   "metadata": {},
   "source": [
    "# Подход 2: логистическая регрессия"
   ]
  },
  {
   "cell_type": "code",
   "execution_count": 1,
   "metadata": {},
   "outputs": [
    {
     "name": "stderr",
     "output_type": "stream",
     "text": [
      "C:\\Users\\homka\\Anaconda3\\lib\\site-packages\\sklearn\\cross_validation.py:41: DeprecationWarning: This module was deprecated in version 0.18 in favor of the model_selection module into which all the refactored classes and functions are moved. Also note that the interface of the new CV iterators are different from that of this module. This module will be removed in 0.20.\n",
      "  \"This module will be removed in 0.20.\", DeprecationWarning)\n"
     ]
    }
   ],
   "source": [
    "import pandas\n",
    "import helpers\n",
    "import numpy as np\n",
    "import time\n",
    "import datetime\n",
    "import matplotlib.pyplot as plt\n",
    "from sklearn.cross_validation import KFold, cross_val_score, train_test_split\n",
    "from sklearn.metrics import roc_auc_score\n",
    "from sklearn.linear_model import LogisticRegression\n",
    "from sklearn.preprocessing import StandardScaler\n",
    "\n",
    "%matplotlib inline"
   ]
  },
  {
   "cell_type": "code",
   "execution_count": 2,
   "metadata": {
    "collapsed": true
   },
   "outputs": [],
   "source": [
    "X, y, X_kaggle = helpers.get_clean_data()\n",
    "scaler = StandardScaler()\n",
    "X = scaler.fit_transform(X)\n",
    "\n",
    "kf = KFold(y.size, n_folds=5, shuffle=True, random_state=42)"
   ]
  },
  {
   "cell_type": "markdown",
   "metadata": {},
   "source": [
    "# Подбираем оптимальный параметр регуляризации (C)"
   ]
  },
  {
   "cell_type": "code",
   "execution_count": 3,
   "metadata": {
    "collapsed": true
   },
   "outputs": [],
   "source": [
    "def plot_C_scores(C_pow_range, scores):\n",
    "    plt.plot(C_pow_range, scores)\n",
    "    plt.xlabel('log(C)')\n",
    "    plt.ylabel('score')\n",
    "    plt.show()\n",
    "\n",
    "def test_model_C(X, y, C):\n",
    "    print ('C =', str(C))\n",
    "    model = LogisticRegression(C=C, random_state=42, n_jobs=-1)\n",
    "    return cross_val_score(model, X, y, cv=kf, scoring='roc_auc', n_jobs=-1)\n",
    "    \n",
    "def test_model(X, y):\n",
    "    scores = []\n",
    "    C_pow_range = range(-5, 6)\n",
    "    C_range = [10.0 ** i for i in C_pow_range]\n",
    "    for C in C_range:\n",
    "        start_time = datetime.datetime.now()\n",
    "        model_scores = test_model_C(X, y, C)\n",
    "        print (model_scores)\n",
    "        print ('Time elapsed:', datetime.datetime.now() - start_time)       \n",
    "        scores.append(np.mean(model_scores))\n",
    "\n",
    "    plot_C_scores(C_pow_range, scores)\n",
    "    \n",
    "    max_score = max(scores)\n",
    "    max_score_index = scores.index(max_score)\n",
    "    return (C_range[max_score_index], max_score)\n",
    "    "
   ]
  },
  {
   "cell_type": "code",
   "execution_count": 9,
   "metadata": {},
   "outputs": [
    {
     "name": "stdout",
     "output_type": "stream",
     "text": [
      "C = 1e-05\n",
      "[0.6931532  0.69481539 0.69571379 0.69513159 0.69699445]\n",
      "Time elapsed: 0:00:05.152442\n",
      "C = 0.0001\n",
      "[0.70956686 0.71039474 0.71170336 0.71176082 0.71336295]\n",
      "Time elapsed: 0:00:05.703323\n",
      "C = 0.001\n",
      "[0.71449541 0.71577214 0.71625974 0.71697301 0.71831738]\n",
      "Time elapsed: 0:00:07.240814\n",
      "C = 0.01\n",
      "[0.71464598 0.71617915 0.71624749 0.71735041 0.71832832]\n",
      "Time elapsed: 0:00:08.337196\n",
      "C = 0.1\n",
      "[0.71462192 0.71617479 0.71619187 0.71737596 0.7182712 ]\n",
      "Time elapsed: 0:00:08.727663\n",
      "C = 1.0\n",
      "[0.71461815 0.71617185 0.71618338 0.7173762  0.71826341]\n",
      "Time elapsed: 0:00:08.706809\n",
      "C = 10.0\n",
      "[0.71461695 0.71617179 0.71618281 0.71737669 0.7182632 ]\n",
      "Time elapsed: 0:00:08.844296\n",
      "C = 100.0\n",
      "[0.71461692 0.71617206 0.71618249 0.71737655 0.71826345]\n",
      "Time elapsed: 0:00:09.095133\n",
      "C = 1000.0\n",
      "[0.71461693 0.71617214 0.7161825  0.71737659 0.71826346]\n",
      "Time elapsed: 0:00:08.732762\n",
      "C = 10000.0\n",
      "[0.71461693 0.71617215 0.71618251 0.7173766  0.71826345]\n",
      "Time elapsed: 0:00:08.781251\n",
      "C = 100000.0\n",
      "[0.71461693 0.71617215 0.71618252 0.71737661 0.71826345]\n",
      "Time elapsed: 0:00:08.736233\n"
     ]
    },
    {
     "data": {
      "image/png": "[encoded data removed]",
      "text/plain": [
       "<Figure size 432x288 with 1 Axes>"
      ]
     },
     "metadata": {},
     "output_type": "display_data"
    }
   ],
   "source": [
    "C, score = test_model(X, y)"
   ]
  },
  {
   "cell_type": "code",
   "execution_count": 10,
   "metadata": {},
   "outputs": [
    {
     "name": "stdout",
     "output_type": "stream",
     "text": [
      "0.01\n",
      "0.7165502697259141\n"
     ]
    }
   ],
   "source": [
    "print (C)\n",
    "print (score)"
   ]
  },
  {
   "cell_type": "markdown",
   "metadata": {},
   "source": [
    "Наилучшее значение показателя AUC-ROC достигается при C = 0.01 и равно 0.716. Это сравнимо с градиентным бустингом по 250 деревьям, при этом логистическая регрессия работает заметно быстрее."
   ]
  },
  {
   "cell_type": "markdown",
   "metadata": {},
   "source": [
    "# Удаление категориальных признаков"
   ]
  },
  {
   "cell_type": "code",
   "execution_count": 4,
   "metadata": {
    "collapsed": true
   },
   "outputs": [],
   "source": [
    "X, y, X_kaggle = helpers.get_clean_data('clean_category')\n",
    "scaler = StandardScaler()\n",
    "X = scaler.fit_transform(X)\n",
    "\n",
    "kf = KFold(y.size, n_folds=5, shuffle=True, random_state=42)"
   ]
  },
  {
   "cell_type": "code",
   "execution_count": 5,
   "metadata": {},
   "outputs": [
    {
     "name": "stdout",
     "output_type": "stream",
     "text": [
      "C = 1e-05\n",
      "[0.69301063 0.69476367 0.69562225 0.69507488 0.69702952]\n",
      "Time elapsed: 0:00:05.114114\n",
      "C = 0.0001\n",
      "[0.70936502 0.71042199 0.71168956 0.71168269 0.71353648]\n",
      "Time elapsed: 0:00:05.521705\n",
      "C = 0.001\n",
      "[0.71434804 0.71581532 0.71629769 0.7168852  0.71853275]\n",
      "Time elapsed: 0:00:06.947262\n",
      "C = 0.01\n",
      "[0.71450425 0.71622052 0.71627999 0.71725088 0.71854131]\n",
      "Time elapsed: 0:00:07.957235\n",
      "C = 0.1\n",
      "[0.71448206 0.71620992 0.71622569 0.71726917 0.71848436]\n",
      "Time elapsed: 0:00:08.322997\n",
      "C = 1.0\n",
      "[0.71447768 0.71620627 0.7162209  0.71727019 0.71847678]\n",
      "Time elapsed: 0:00:08.465044\n",
      "C = 10.0\n",
      "[0.71447669 0.71620645 0.71621968 0.71727123 0.71847581]\n",
      "Time elapsed: 0:00:08.382008\n",
      "C = 100.0\n",
      "[0.7144767  0.71620624 0.71621963 0.71727119 0.71847569]\n",
      "Time elapsed: 0:00:08.351539\n",
      "C = 1000.0\n",
      "[0.71447667 0.71620624 0.71621965 0.71727119 0.71847569]\n",
      "Time elapsed: 0:00:08.401482\n",
      "C = 10000.0\n",
      "[0.71447668 0.71620627 0.71621961 0.71727117 0.71847569]\n",
      "Time elapsed: 0:00:08.493266\n",
      "C = 100000.0\n",
      "[0.71447668 0.71620627 0.71621961 0.71727117 0.71847569]\n",
      "Time elapsed: 0:00:08.249599\n"
     ]
    },
    {
     "data": {
      "image/png": "[encoded data removed]",
      "text/plain": [
       "<Figure size 432x288 with 1 Axes>"
      ]
     },
     "metadata": {},
     "output_type": "display_data"
    }
   ],
   "source": [
    "C, score = test_model(X, y)"
   ]
  },
  {
   "cell_type": "code",
   "execution_count": 6,
   "metadata": {},
   "outputs": [
    {
     "name": "stdout",
     "output_type": "stream",
     "text": [
      "0.01\n",
      "0.7165593885630225\n"
     ]
    }
   ],
   "source": [
    "print (C)\n",
    "print (score)"
   ]
  },
  {
   "cell_type": "markdown",
   "metadata": {},
   "source": [
    "Удаление категориальных признаков не повлияло на качество предсказания. Наилучшее значение показателя AUC-ROC так же достигается при C = 0.01 и равно 0.716. Получается, что в предыдущей модели эти признаки никак не влияли на результат предсказания, модель смогла распознать этот шум."
   ]
  },
  {
   "cell_type": "markdown",
   "metadata": {},
   "source": [
    "# \"Мешок слов\" для кодирования информации о героях."
   ]
  },
  {
   "cell_type": "code",
   "execution_count": 7,
   "metadata": {
    "collapsed": true
   },
   "outputs": [],
   "source": [
    "X, y, X_kaggle = helpers.get_clean_data('clean_category')\n",
    "X_hero, _y, X_kaggle_hero = helpers.get_clean_data('hero_bag')\n",
    "\n",
    "scaler = StandardScaler()\n",
    "X = pandas.DataFrame(scaler.fit_transform(X), index = X.index)\n",
    "X_kaggle = pandas.DataFrame(scaler.transform(X_kaggle), index = X_kaggle.index)\n",
    "\n",
    "X = pandas.concat([X, X_hero], axis=1)\n",
    "X_kaggle = pandas.concat([X_kaggle, X_kaggle_hero], axis=1)\n",
    "\n",
    "kf = KFold(y.size, n_folds=5, shuffle=True, random_state=42)"
   ]
  },
  {
   "cell_type": "code",
   "execution_count": 8,
   "metadata": {},
   "outputs": [
    {
     "name": "stdout",
     "output_type": "stream",
     "text": [
      "C = 1e-05\n",
      "[0.69720207 0.69884021 0.69957686 0.69934071 0.70112123]\n",
      "Time elapsed: 0:00:06.190490\n",
      "C = 0.0001\n",
      "[0.72359118 0.72409682 0.72469067 0.72599494 0.72698389]\n",
      "Time elapsed: 0:00:06.712623\n",
      "C = 0.001\n",
      "[0.74465332 0.74667772 0.74413152 0.74880233 0.74740586]\n",
      "Time elapsed: 0:00:08.680691\n",
      "C = 0.01\n",
      "[0.74947407 0.75279102 0.7492512  0.75538896 0.75178335]\n",
      "Time elapsed: 0:00:11.602126\n",
      "C = 0.1\n",
      "[0.74943218 0.75315601 0.74950643 0.7559819  0.75166068]\n",
      "Time elapsed: 0:00:14.259939\n",
      "C = 1.0\n",
      "[0.74936295 0.75316822 0.74949775 0.75602112 0.75158796]\n",
      "Time elapsed: 0:00:14.403098\n",
      "C = 10.0\n",
      "[0.74935121 0.75317095 0.74949831 0.75602517 0.75158   ]\n",
      "Time elapsed: 0:00:14.647511\n",
      "C = 100.0\n",
      "[0.74935011 0.75317056 0.74949869 0.75602547 0.75157877]\n",
      "Time elapsed: 0:00:14.807832\n",
      "C = 1000.0\n",
      "[0.74934946 0.75317052 0.74949877 0.75602565 0.75157867]\n",
      "Time elapsed: 0:00:15.167250\n",
      "C = 10000.0\n",
      "[0.74934982 0.75317055 0.74949872 0.75602524 0.7515786 ]\n",
      "Time elapsed: 0:00:14.785746\n",
      "C = 100000.0\n",
      "[0.74935058 0.7531704  0.74949892 0.75602535 0.7515787 ]\n",
      "Time elapsed: 0:00:14.674088\n"
     ]
    },
    {
     "data": {
      "image/png": "[encoded data removed]",
      "text/plain": [
       "<Figure size 432x288 with 1 Axes>"
      ]
     },
     "metadata": {},
     "output_type": "display_data"
    }
   ],
   "source": [
    "C, score = test_model(X, y)"
   ]
  },
  {
   "cell_type": "code",
   "execution_count": 9,
   "metadata": {},
   "outputs": [
    {
     "name": "stdout",
     "output_type": "stream",
     "text": [
      "0.1\n",
      "0.7519474413465284\n"
     ]
    }
   ],
   "source": [
    "print (C)\n",
    "print (score)"
   ]
  },
  {
   "cell_type": "markdown",
   "metadata": {},
   "source": [
    "После добавления \"мешка слов\" по героям качество заметно улучшилось. Наилучшее значение показателя AUC-ROC достигается при C = 0.1 и равно 0.752. Это объясняется тем, что вместо отсутствия данных о героях или случайного шума из id мы имеем осмысленную разреженную матрицу для построения предсказания."
   ]
  },
  {
   "cell_type": "code",
   "execution_count": null,
   "metadata": {
    "collapsed": true
   },
   "outputs": [],
   "source": []
  }
 ],
 "metadata": {
  "kernelspec": {
   "display_name": "Python 3",
   "language": "python",
   "name": "python3"
  },
  "language_info": {
   "codemirror_mode": {
    "name": "ipython",
    "version": 3
   },
   "file_extension": ".py",
   "mimetype": "text/x-python",
   "name": "python",
   "nbconvert_exporter": "python",
   "pygments_lexer": "ipython3",
   "version": "3.7.1"
  }
 },
 "nbformat": 4,
 "nbformat_minor": 1
}
