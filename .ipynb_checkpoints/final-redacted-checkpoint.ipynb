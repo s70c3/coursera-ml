{
 "cells": [
  {
   "cell_type": "code",
   "execution_count": 1,
   "metadata": {},
   "outputs": [
    {
     "name": "stdout",
     "output_type": "stream",
     "text": [
      "['first_blood_time', 'first_blood_team', 'first_blood_player1', 'first_blood_player2', 'radiant_bottle_time', 'radiant_courier_time', 'radiant_flying_courier_time', 'radiant_first_ward_time', 'dire_bottle_time', 'dire_courier_time', 'dire_flying_courier_time', 'dire_first_ward_time']\n"
     ]
    }
   ],
   "source": [
    "import pandas as pd\n",
    "\n",
    "data = pd.read_csv('features.csv', index_col='match_id')\n",
    "print data.columns[data.isna().any()].tolist()"
   ]
  },
  {
   "cell_type": "markdown",
   "metadata": {},
   "source": [
    "Все пустые поля это не случившиеся события за первые 5 минут игры. \n",
    "Курьера почти во всех матчах успевали купить, а вот проапгрейдить до летающего уже много меньше."
   ]
  },
  {
   "cell_type": "markdown",
   "metadata": {},
   "source": [
    "Целевая переменная radiant_win"
   ]
  },
  {
   "cell_type": "code",
   "execution_count": 2,
   "metadata": {},
   "outputs": [
    {
     "data": {
      "text/html": [
       "<div>\n",
       "<style scoped>\n",
       "    .dataframe tbody tr th:only-of-type {\n",
       "        vertical-align: middle;\n",
       "    }\n",
       "\n",
       "    .dataframe tbody tr th {\n",
       "        vertical-align: top;\n",
       "    }\n",
       "\n",
       "    .dataframe thead th {\n",
       "        text-align: right;\n",
       "    }\n",
       "</style>\n",
       "<table border=\"1\" class=\"dataframe\">\n",
       "  <thead>\n",
       "    <tr style=\"text-align: right;\">\n",
       "      <th></th>\n",
       "      <th>start_time</th>\n",
       "      <th>lobby_type</th>\n",
       "      <th>r1_hero</th>\n",
       "      <th>r1_level</th>\n",
       "      <th>r1_xp</th>\n",
       "      <th>r1_gold</th>\n",
       "      <th>r1_lh</th>\n",
       "      <th>r1_kills</th>\n",
       "      <th>r1_deaths</th>\n",
       "      <th>r1_items</th>\n",
       "      <th>...</th>\n",
       "      <th>dire_boots_count</th>\n",
       "      <th>dire_ward_observer_count</th>\n",
       "      <th>dire_ward_sentry_count</th>\n",
       "      <th>dire_first_ward_time</th>\n",
       "      <th>duration</th>\n",
       "      <th>radiant_win</th>\n",
       "      <th>tower_status_radiant</th>\n",
       "      <th>tower_status_dire</th>\n",
       "      <th>barracks_status_radiant</th>\n",
       "      <th>barracks_status_dire</th>\n",
       "    </tr>\n",
       "    <tr>\n",
       "      <th>match_id</th>\n",
       "      <th></th>\n",
       "      <th></th>\n",
       "      <th></th>\n",
       "      <th></th>\n",
       "      <th></th>\n",
       "      <th></th>\n",
       "      <th></th>\n",
       "      <th></th>\n",
       "      <th></th>\n",
       "      <th></th>\n",
       "      <th></th>\n",
       "      <th></th>\n",
       "      <th></th>\n",
       "      <th></th>\n",
       "      <th></th>\n",
       "      <th></th>\n",
       "      <th></th>\n",
       "      <th></th>\n",
       "      <th></th>\n",
       "      <th></th>\n",
       "      <th></th>\n",
       "    </tr>\n",
       "  </thead>\n",
       "  <tbody>\n",
       "    <tr>\n",
       "      <th>0</th>\n",
       "      <td>1430198770</td>\n",
       "      <td>7</td>\n",
       "      <td>11</td>\n",
       "      <td>5</td>\n",
       "      <td>2098</td>\n",
       "      <td>1489</td>\n",
       "      <td>20</td>\n",
       "      <td>0</td>\n",
       "      <td>0</td>\n",
       "      <td>7</td>\n",
       "      <td>...</td>\n",
       "      <td>4</td>\n",
       "      <td>2</td>\n",
       "      <td>2</td>\n",
       "      <td>-52.0</td>\n",
       "      <td>2874</td>\n",
       "      <td>1</td>\n",
       "      <td>1796</td>\n",
       "      <td>0</td>\n",
       "      <td>51</td>\n",
       "      <td>0</td>\n",
       "    </tr>\n",
       "    <tr>\n",
       "      <th>1</th>\n",
       "      <td>1430220345</td>\n",
       "      <td>0</td>\n",
       "      <td>42</td>\n",
       "      <td>4</td>\n",
       "      <td>1188</td>\n",
       "      <td>1033</td>\n",
       "      <td>9</td>\n",
       "      <td>0</td>\n",
       "      <td>1</td>\n",
       "      <td>12</td>\n",
       "      <td>...</td>\n",
       "      <td>4</td>\n",
       "      <td>3</td>\n",
       "      <td>1</td>\n",
       "      <td>-5.0</td>\n",
       "      <td>2463</td>\n",
       "      <td>1</td>\n",
       "      <td>1974</td>\n",
       "      <td>0</td>\n",
       "      <td>63</td>\n",
       "      <td>1</td>\n",
       "    </tr>\n",
       "    <tr>\n",
       "      <th>2</th>\n",
       "      <td>1430227081</td>\n",
       "      <td>7</td>\n",
       "      <td>33</td>\n",
       "      <td>4</td>\n",
       "      <td>1319</td>\n",
       "      <td>1270</td>\n",
       "      <td>22</td>\n",
       "      <td>0</td>\n",
       "      <td>0</td>\n",
       "      <td>12</td>\n",
       "      <td>...</td>\n",
       "      <td>4</td>\n",
       "      <td>3</td>\n",
       "      <td>1</td>\n",
       "      <td>13.0</td>\n",
       "      <td>2130</td>\n",
       "      <td>0</td>\n",
       "      <td>0</td>\n",
       "      <td>1830</td>\n",
       "      <td>0</td>\n",
       "      <td>63</td>\n",
       "    </tr>\n",
       "    <tr>\n",
       "      <th>3</th>\n",
       "      <td>1430263531</td>\n",
       "      <td>1</td>\n",
       "      <td>29</td>\n",
       "      <td>4</td>\n",
       "      <td>1779</td>\n",
       "      <td>1056</td>\n",
       "      <td>14</td>\n",
       "      <td>0</td>\n",
       "      <td>0</td>\n",
       "      <td>5</td>\n",
       "      <td>...</td>\n",
       "      <td>4</td>\n",
       "      <td>2</td>\n",
       "      <td>0</td>\n",
       "      <td>27.0</td>\n",
       "      <td>1459</td>\n",
       "      <td>0</td>\n",
       "      <td>1920</td>\n",
       "      <td>2047</td>\n",
       "      <td>50</td>\n",
       "      <td>63</td>\n",
       "    </tr>\n",
       "    <tr>\n",
       "      <th>4</th>\n",
       "      <td>1430282290</td>\n",
       "      <td>7</td>\n",
       "      <td>13</td>\n",
       "      <td>4</td>\n",
       "      <td>1431</td>\n",
       "      <td>1090</td>\n",
       "      <td>8</td>\n",
       "      <td>1</td>\n",
       "      <td>0</td>\n",
       "      <td>8</td>\n",
       "      <td>...</td>\n",
       "      <td>3</td>\n",
       "      <td>3</td>\n",
       "      <td>0</td>\n",
       "      <td>-16.0</td>\n",
       "      <td>2449</td>\n",
       "      <td>0</td>\n",
       "      <td>4</td>\n",
       "      <td>1974</td>\n",
       "      <td>3</td>\n",
       "      <td>63</td>\n",
       "    </tr>\n",
       "  </tbody>\n",
       "</table>\n",
       "<p>5 rows × 108 columns</p>\n",
       "</div>"
      ],
      "text/plain": [
       "          start_time  lobby_type  r1_hero  r1_level  r1_xp  r1_gold  r1_lh  \\\n",
       "match_id                                                                     \n",
       "0         1430198770           7       11         5   2098     1489     20   \n",
       "1         1430220345           0       42         4   1188     1033      9   \n",
       "2         1430227081           7       33         4   1319     1270     22   \n",
       "3         1430263531           1       29         4   1779     1056     14   \n",
       "4         1430282290           7       13         4   1431     1090      8   \n",
       "\n",
       "          r1_kills  r1_deaths  r1_items          ...           \\\n",
       "match_id                                         ...            \n",
       "0                0          0         7          ...            \n",
       "1                0          1        12          ...            \n",
       "2                0          0        12          ...            \n",
       "3                0          0         5          ...            \n",
       "4                1          0         8          ...            \n",
       "\n",
       "          dire_boots_count  dire_ward_observer_count  dire_ward_sentry_count  \\\n",
       "match_id                                                                       \n",
       "0                        4                         2                       2   \n",
       "1                        4                         3                       1   \n",
       "2                        4                         3                       1   \n",
       "3                        4                         2                       0   \n",
       "4                        3                         3                       0   \n",
       "\n",
       "          dire_first_ward_time  duration  radiant_win  tower_status_radiant  \\\n",
       "match_id                                                                      \n",
       "0                        -52.0      2874            1                  1796   \n",
       "1                         -5.0      2463            1                  1974   \n",
       "2                         13.0      2130            0                     0   \n",
       "3                         27.0      1459            0                  1920   \n",
       "4                        -16.0      2449            0                     4   \n",
       "\n",
       "          tower_status_dire  barracks_status_radiant  barracks_status_dire  \n",
       "match_id                                                                    \n",
       "0                         0                       51                     0  \n",
       "1                         0                       63                     1  \n",
       "2                      1830                        0                    63  \n",
       "3                      2047                       50                    63  \n",
       "4                      1974                        3                    63  \n",
       "\n",
       "[5 rows x 108 columns]"
      ]
     },
     "execution_count": 2,
     "metadata": {},
     "output_type": "execute_result"
    }
   ],
   "source": [
    "data.head()"
   ]
  },
  {
   "cell_type": "code",
   "execution_count": 3,
   "metadata": {},
   "outputs": [
    {
     "name": "stdout",
     "output_type": "stream",
     "text": [
      "N_Tree: 10 Score: 0.67963 Time: 0:01:16.825000\n",
      "N_Tree: 20 Score: 0.69197 Time: 0:02:25.684000\n",
      "N_Tree: 30 Score: 0.69815 Time: 0:03:22.920000\n",
      "N_Tree: 40 Score: 0.70218 Time: 0:04:13.577000\n",
      "N_Tree: 50 Score: 0.70489 Time: 0:05:23.797000\n",
      "N_Tree: 100 Score: 0.71197 Time: 0:10:42.340000\n"
     ]
    }
   ],
   "source": [
    "import datetime\n",
    "from sklearn.ensemble import GradientBoostingClassifier\n",
    "from sklearn.model_selection import KFold\n",
    "from sklearn.model_selection import cross_val_score\n",
    "\n",
    "# Выбираются все столбцы, кроме start_time, radiant_win и столбцов, \n",
    "#     которые были известны только после окончания матча\n",
    "X = data.iloc[:,1:102].fillna(300)\n",
    "y = data.radiant_win\n",
    "cv = KFold(n_splits=5, shuffle=True, random_state=42)\n",
    "\n",
    "for n_tree in [10, 20, 30, 40, 50, 100]:\n",
    "    ts = datetime.datetime.now()\n",
    "    est = GradientBoostingClassifier(n_estimators=n_tree, random_state=42, max_depth=5)\n",
    "    score = cross_val_score(est, X, y, scoring='roc_auc', cv=cv).mean()\n",
    "    print 'N_Tree: {} Score: {:.5f} Time: {}'.format(n_tree, score, (datetime.datetime.now() - ts))"
   ]
  },
  {
   "cell_type": "markdown",
   "metadata": {},
   "source": [
    "Смысл использовать больше 30 деревьев есть, но прирост небольшой(в районе 1-2 процентов), с большими временными затратами.  \n",
    "К примеру, для рассмотренного выше случая на 30 деревьях получили качество 0.69815 и 3 минуты работы кросс валидации.  \n",
    "Если же взять уже 100 деревьев, качество вырастет до 0.71197, а время почти до 11 минут.  \n",
    "С увеличением количества деревьев, прирост качества замедляется, а время продолжает расти.  \n",
    "Время обучения можно уменьшить, если ограничить глубину  деревьев(только не слишком сильно, иначе будет страдать качество) или обучать на части выборки(обязательно случайной, иначе - переобучение)"
   ]
  },
  {
   "cell_type": "code",
   "execution_count": 4,
   "metadata": {},
   "outputs": [
    {
     "name": "stdout",
     "output_type": "stream",
     "text": [
      "Score: 0.71694 Time: 0:00:29.524000\n"
     ]
    }
   ],
   "source": [
    "from sklearn.linear_model import LogisticRegression\n",
    "from sklearn.preprocessing import StandardScaler\n",
    "\n",
    "scaler = StandardScaler()\n",
    "logreg = LogisticRegression(random_state=42)    \n",
    "X_scale = pd.DataFrame(scaler.fit_transform(X), X.index, X.columns)\n",
    "\n",
    "ts = datetime.datetime.now()\n",
    "score = cross_val_score(logreg, X_scale, y, scoring='roc_auc', cv=cv).mean()\n",
    "print 'Score: {:.5f} Time: {}'.format(score, (datetime.datetime.now() - ts))"
   ]
  },
  {
   "cell_type": "code",
   "execution_count": 5,
   "metadata": {},
   "outputs": [
    {
     "name": "stdout",
     "output_type": "stream",
     "text": [
      "Score: 0.71697 Time: 0:00:25.906000\n"
     ]
    }
   ],
   "source": [
    "cols = [a for a in X_scale.columns.values if a.endswith('_hero') or a == 'lobby_type']\n",
    "X_scale_drop = X_scale.drop(columns=cols)\n",
    "\n",
    "ts = datetime.datetime.now()\n",
    "score = cross_val_score(logreg, X_scale_drop, y, scoring='roc_auc', cv=cv).mean()\n",
    "print 'Score: {:.5f} Time: {}'.format(score, (datetime.datetime.now() - ts))"
   ]
  },
  {
   "cell_type": "code",
   "execution_count": 6,
   "metadata": {},
   "outputs": [
    {
     "name": "stdout",
     "output_type": "stream",
     "text": [
      "Max hero_id value: 112\n",
      "Used hero_id values: 108\n"
     ]
    }
   ],
   "source": [
    "import numpy as np\n",
    "print 'Max hero_id value: {}'.format(np.max([data[a].max() for a in data.columns.values if a.endswith('_hero')]))\n",
    "print 'Used hero_id values: {}'.format(np.max([len(np.unique([data[a]])) for a in data.columns.values if a.endswith('_hero')]))"
   ]
  },
  {
   "cell_type": "markdown",
   "metadata": {},
   "source": [
    "Максимальное значение hero_id: 112"
   ]
  },
  {
   "cell_type": "code",
   "execution_count": 7,
   "metadata": {},
   "outputs": [],
   "source": [
    "from scipy.sparse import csr_matrix\n",
    "from sklearn.preprocessing import OneHotEncoder\n",
    "\n",
    "oh = OneHotEncoder()"
   ]
  },
  {
   "cell_type": "code",
   "execution_count": 8,
   "metadata": {},
   "outputs": [],
   "source": [
    "oh.fit(np.arange(1, 113).reshape(-1, 1))\n",
    "sm = csr_matrix((data.shape[0], 112), dtype=np.int8)\n",
    "for i in xrange(1,6):\n",
    "    sm += oh.transform(data['r{}_hero'.format(i)].values.reshape(-1,1))\n",
    "    sm -= oh.transform(data['d{}_hero'.format(i)].values.reshape(-1,1))\n",
    "X_h = pd.DataFrame(sm.toarray(), data.index, columns=['h_{}'.format(i) for i in xrange(1, 113)])"
   ]
  },
  {
   "cell_type": "code",
   "execution_count": 9,
   "metadata": {},
   "outputs": [],
   "source": [
    "oh.fit(np.arange(8).reshape(-1,1))\n",
    "m = oh.transform(data.lobby_type.values.reshape(-1,1))\n",
    "X_l = pd.DataFrame(m.toarray(), data.index, columns=['l_{}'.format(i) for i in xrange(8)])"
   ]
  },
  {
   "cell_type": "code",
   "execution_count": 10,
   "metadata": {},
   "outputs": [
    {
     "name": "stdout",
     "output_type": "stream",
     "text": [
      "Score: 0.75255 Time: 0:00:43.656000\n"
     ]
    }
   ],
   "source": [
    "ts = datetime.datetime.now()\n",
    "score = cross_val_score(logreg, pd.concat([X_scale_drop, X_h, X_l], axis=1), y, scoring='roc_auc', cv=cv).mean()\n",
    "print 'Score: {:.5f} Time: {}'.format(score, (datetime.datetime.now() - ts))"
   ]
  },
  {
   "cell_type": "code",
   "execution_count": 11,
   "metadata": {},
   "outputs": [
    {
     "name": "stdout",
     "output_type": "stream",
     "text": [
      "Time: 0:00:10.897000\n",
      "Min: 0.00898 Mean: 0.51832 Max: 0.99682\n"
     ]
    }
   ],
   "source": [
    "data_test = pd.read_csv('features_test.csv', index_col='match_id')\n",
    "\n",
    "def prepare(df):\n",
    "    cols = [a for a in df.columns.values if a.endswith('_hero') or a == 'lobby_type']\n",
    "    r = df.iloc[:,1:102].drop(columns=cols).fillna(300)\n",
    "    r_d = pd.DataFrame(scaler.fit_transform(r), r.index, r.columns)\n",
    "    \n",
    "    oh.fit(np.arange(1, 113).reshape(-1, 1))\n",
    "    sm = csr_matrix((df.shape[0], 112), dtype=np.int8)\n",
    "    for i in xrange(1,6):\n",
    "        sm += oh.transform(df['r{}_hero'.format(i)].values.reshape(-1,1))\n",
    "        sm -= oh.transform(df['d{}_hero'.format(i)].values.reshape(-1,1))\n",
    "    r_h = pd.DataFrame(sm.toarray(), df.index, columns=['h_{}'.format(i) for i in xrange(1, 113)])\n",
    "    \n",
    "    oh.fit(np.arange(8).reshape(-1,1))\n",
    "    m = oh.transform(df.lobby_type.values.reshape(-1,1))\n",
    "    r_l = pd.DataFrame(m.toarray(), df.index, columns=['l_{}'.format(i) for i in xrange(8)])\n",
    "    return pd.concat([r_d, r_h, r_l], axis=1)\n",
    "    \n",
    "ts = datetime.datetime.now()\n",
    "\n",
    "logreg.fit(prepare(data), y)\n",
    "proba = logreg.predict_proba(prepare(data_test))[:,1]\n",
    "\n",
    "print 'Time: {}'.format(datetime.datetime.now() - ts)\n",
    "print 'Min: {:.5f} Mean: {:.5f} Max: {:.5f}'.format(proba.min(), proba.mean(), proba.max())"
   ]
  }
 ],
 "metadata": {
  "kernelspec": {
   "display_name": "Python 3",
   "language": "python",
   "name": "python3"
  },
  "language_info": {
   "codemirror_mode": {
    "name": "ipython",
    "version": 3
   },
   "file_extension": ".py",
   "mimetype": "text/x-python",
   "name": "python",
   "nbconvert_exporter": "python",
   "pygments_lexer": "ipython3",
   "version": "3.7.1"
  }
 },
 "nbformat": 4,
 "nbformat_minor": 2
}
