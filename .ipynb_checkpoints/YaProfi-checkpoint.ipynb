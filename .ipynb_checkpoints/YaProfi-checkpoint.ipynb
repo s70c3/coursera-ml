{
 "cells": [
  {
   "cell_type": "code",
   "execution_count": 5,
   "metadata": {},
   "outputs": [
    {
     "name": "stdout",
     "output_type": "stream",
     "text": [
      "2\n",
      "5\n",
      "44\n",
      "99\n",
      "44\n",
      "99\n"
     ]
    }
   ],
   "source": [
    "#task 8\n",
    "n = int(input())\n",
    "k = int(input())\n",
    "for i in range(n):\n",
    "\ts = input()\n",
    "\tfor j in s:\n",
    "\t\tnum = ord(j)+k if ord(j)+k <= 126 else 33\n",
    "\t\tprint(chr(num),end='')\n",
    "\tprint()"
   ]
  },
  {
   "cell_type": "code",
   "execution_count": 18,
   "metadata": {},
   "outputs": [
    {
     "name": "stdout",
     "output_type": "stream",
     "text": [
      "{ \"data\": { \"temp\": 200, \"humidity\": 21}, \"status\": { \"devEUI\" : \"8071111011100112\", \"time\": \"14:17:57\" }}\n",
      " 400\n"
     ]
    }
   ],
   "source": [
    "#task 9\n",
    "import json\n",
    "\n",
    "#{ \"data\": { \"temp\": 29, \"humidity\": 22}, \"status\": { \"devEUI\" : \"8071111011100112\", \"time\": \"14:11:57\" }}\n",
    "max_temp = -253\n",
    "min_temp = 400\n",
    "max_time = \"\"\n",
    "while True:\n",
    "    s = input()\n",
    "    decoded = json.loads(s)\n",
    "    temp = decoded['data']['temp']\n",
    "    time = decoded['status']['time']\n",
    "    if temp == 200:\n",
    "        break;\n",
    "    if max_temp<temp:\n",
    "        max_temp=temp\n",
    "        max_time = time\n",
    "    if min_temp>temp:\n",
    "        min_temp=temp\n",
    "print(max_time, min_temp)\n",
    " "
   ]
  },
  {
   "cell_type": "code",
   "execution_count": null,
   "metadata": {},
   "outputs": [],
   "source": [
    "#test data for task 9\n",
    "{ \"data\": { \"temp\": 29, \"humidity\": 22}, \"status\": { \"devEUI\" : \"8071111011100112\", \"time\": \"14:11:57\" }}\n",
    "{ \"data\": { \"temp\": 30, \"humidity\": 32}, \"status\": { \"devEUI\" : \"8071111011100112\", \"time\": \"14:12:57\" }}\n",
    "{ \"data\": { \"temp\": 10, \"humidity\": 29}, \"status\": { \"devEUI\" : \"8071111011100112\", \"time\": \"14:13:57\" }}\n",
    "{ \"data\": { \"temp\": 10, \"humidity\": 32}, \"status\": { \"devEUI\" : \"8071111011100112\", \"time\": \"14:14:57\" }}\n",
    "{ \"data\": { \"temp\": 16, \"humidity\": 24}, \"status\": { \"devEUI\" : \"8071111011100112\", \"time\": \"14:15:57\" }}\n",
    "{ \"data\": { \"temp\": 10, \"humidity\": 23}, \"status\": { \"devEUI\" : \"8071111011100112\", \"time\": \"14:16:57\" }}\n",
    "{ \"data\": { \"temp\": 200, \"humidity\": 21}, \"status\": { \"devEUI\" : \"8071111011100112\", \"time\": \"14:17:57\" }}"
   ]
  },
  {
   "cell_type": "code",
   "execution_count": 23,
   "metadata": {},
   "outputs": [
    {
     "name": "stdout",
     "output_type": "stream",
     "text": [
      "0\n",
      "0\n",
      "0\n",
      "1 1\n",
      "\n"
     ]
    },
    {
     "ename": "ValueError",
     "evalue": "invalid literal for int() with base 10: ''",
     "output_type": "error",
     "traceback": [
      "\u001b[0;31m---------------------------------------------------------------------------\u001b[0m",
      "\u001b[0;31mValueError\u001b[0m                                Traceback (most recent call last)",
      "\u001b[0;32m<ipython-input-23-23d40af49bc5>\u001b[0m in \u001b[0;36m<module>\u001b[0;34m\u001b[0m\n\u001b[1;32m     25\u001b[0m \u001b[0mprint\u001b[0m\u001b[0;34m(\u001b[0m\u001b[0mmax1\u001b[0m\u001b[0;34m,\u001b[0m \u001b[0mmax2\u001b[0m\u001b[0;34m)\u001b[0m\u001b[0;34m\u001b[0m\u001b[0;34m\u001b[0m\u001b[0m\n\u001b[1;32m     26\u001b[0m \u001b[0mN_count\u001b[0m \u001b[0;34m=\u001b[0m \u001b[0mmax1\u001b[0m\u001b[0;34m*\u001b[0m\u001b[0mmax2\u001b[0m\u001b[0;34m\u001b[0m\u001b[0;34m\u001b[0m\u001b[0m\n\u001b[0;32m---> 27\u001b[0;31m \u001b[0mN\u001b[0m \u001b[0;34m=\u001b[0m \u001b[0mint\u001b[0m\u001b[0;34m(\u001b[0m\u001b[0minput\u001b[0m\u001b[0;34m(\u001b[0m\u001b[0;34m)\u001b[0m\u001b[0;34m)\u001b[0m\u001b[0;34m\u001b[0m\u001b[0;34m\u001b[0m\u001b[0m\n\u001b[0m\u001b[1;32m     28\u001b[0m \u001b[0mprint\u001b[0m\u001b[0;34m(\u001b[0m\u001b[0mnumber\u001b[0m\u001b[0;34m)\u001b[0m\u001b[0;34m\u001b[0m\u001b[0;34m\u001b[0m\u001b[0m\n\u001b[1;32m     29\u001b[0m \u001b[0mprint\u001b[0m\u001b[0;34m(\u001b[0m\u001b[0msumm\u001b[0m\u001b[0;34m//\u001b[0m\u001b[0mnumber\u001b[0m\u001b[0;34m)\u001b[0m\u001b[0;34m\u001b[0m\u001b[0;34m\u001b[0m\u001b[0m\n",
      "\u001b[0;31mValueError\u001b[0m: invalid literal for int() with base 10: ''"
     ]
    }
   ],
   "source": [
    "#task3\n",
    "zero_counter = 0\n",
    "N = 0\n",
    "max1 = 1\n",
    "max2 = 1\n",
    "number=0\n",
    "avg = 0\n",
    "summ = 0\n",
    "while True:\n",
    "    lux = int(input())\n",
    "    if lux!=0:\n",
    "        zero_counter=0\n",
    "        if lux>max1 and lux*max1%10!=0:\n",
    "            max2=max1\n",
    "            max1=lux\n",
    "        elif lux>max2 and lux*max1%10!=0:\n",
    "            max2=lux\n",
    "        if lux>20:\n",
    "            summ+=lux\n",
    "            number+=1\n",
    "    else:\n",
    "        zero_counter+=1\n",
    "        if zero_counter==3:\n",
    "            break;\n",
    "print(max1, max2)\n",
    "N_count = max1*max2\n",
    "N = int(input())\n",
    "print(number)\n",
    "print(summ//number)\n",
    "print(N)\n",
    "print(N_count)"
   ]
  },
  {
   "cell_type": "code",
   "execution_count": null,
   "metadata": {},
   "outputs": [],
   "source": [
    "#task4\n",
    "http://serveriotapp.ru:8080/scripts/write_temp.php?t=temp\n",
    "#task7\n",
    "mosquitto_sub -h 192.168.23.21 -t devices/house/1\n",
    "#task6\n",
    "(1234\\d{12})\n",
    "https://regex101.com/\n",
    "#task3\n",
    "12 06 006B 0003 7687 \n",
    "06 - функциональный код\n",
    "006B - адрес первого регистра\n",
    "https://ipc2u.ru/articles/prostye-resheniya/modbus-rtu/\n",
    "#task2\n",
    "503\n",
    "https://ru.wikipedia.org/wiki/%D0%9C%D0%B0%D1%81%D0%BA%D0%B0_%D0%BF%D0%BE%D0%B4%D1%81%D0%B5%D1%82%D0%B8\n",
    "#task1\n",
    "http://www.delphiplus.org/obnaruzhenie-narushenii-bezopasnosti-v-setyakh/pobitovoe-maskirovanie.html"
   ]
  },
  {
   "cell_type": "code",
   "execution_count": null,
   "metadata": {},
   "outputs": [],
   "source": [
    "#task4\n",
    "ftp user12@ftp.ﬁle-storage.net;get log12-12-11.txt log11.txt \n",
    "\n",
    "#task3\n",
    "00101111\n",
    "\n",
    "#task1\n",
    "ﬀﬀ:aaaa:7777:12:11:5:9:0\n",
    "#task5\n",
    "0,24"
   ]
  },
  {
   "cell_type": "code",
   "execution_count": 25,
   "metadata": {},
   "outputs": [
    {
     "name": "stdout",
     "output_type": "stream",
     "text": [
      "12\n",
      "14\n",
      "17\n",
      "-1\n",
      "-1\n",
      "-1\n",
      "17 14\n",
      "238\n",
      "14.333\n",
      "238\n",
      "238\n"
     ]
    }
   ],
   "source": [
    "#task3\n",
    "zero_counter = 0\n",
    "N = 0\n",
    "max1 = 1\n",
    "max2 = 1\n",
    "number=0\n",
    "avg = 0\n",
    "summ = 0\n",
    "while True:\n",
    "    lux = int(input())\n",
    "    if lux!=-1:\n",
    "        zero_counter=0\n",
    "        if lux>max1 and lux*max1%3!=0:\n",
    "            max2=max1\n",
    "            max1=lux\n",
    "        elif lux>max2 and lux*max1%3!=0:\n",
    "            max2=lux\n",
    "        if lux>1 and lux<99:\n",
    "            summ+=lux\n",
    "            number+=1\n",
    "    else:\n",
    "        zero_counter+=1\n",
    "        if zero_counter==3:\n",
    "            break;\n",
    "N_count = max1*max2\n",
    "N = int(input())\n",
    "print(round(summ/number,3), N, N_count)"
   ]
  },
  {
   "cell_type": "code",
   "execution_count": 92,
   "metadata": {},
   "outputs": [
    {
     "name": "stdout",
     "output_type": "stream",
     "text": [
      "IoT_2018\n",
      "b3899a00b1a64e5b3ad1cbd9935cb25b\n"
     ]
    }
   ],
   "source": [
    "import hashlib\n",
    "password = input()\n",
    "last = password[-1]\n",
    "\n",
    "\n",
    "if ord(last)>48 and ord(last)<57:\n",
    "    n = int(last)\n",
    "    fac = 1 \n",
    "    i = 0 \n",
    "    while i < n:\n",
    "        i += 1\n",
    "        fac = fac * i \n",
    "    fib1 = 1\n",
    "    fib2 = 1\n",
    "    n=int(last)+4\n",
    "    i = 2\n",
    "    while i < n:\n",
    "        fib_sum = fib2 + fib1\n",
    "        fib1 = fib2\n",
    "        fib2 = fib_sum\n",
    "        i += 1\n",
    "    x=fac-fib_sum+int(last)**int(last)\n",
    "    password+=str(x)\n",
    "else:\n",
    "    new_pass=password[0:-1]\n",
    "    if password[-1].islower():\n",
    "        new_pass+=password[-1].upper()\n",
    "    else:\n",
    "        new_pass+=password[-1].lower()\n",
    "    password=new_pass\n",
    "summ=0\n",
    "num = 0\n",
    "for i in password:\n",
    "    if ord(i)>47 and ord(i)<58:\n",
    "        summ+=int(i)\n",
    "        num+=1\n",
    "if num>0:\n",
    "    avg = summ//num\n",
    "    password = str(avg)+password\n",
    "else:\n",
    "    password=\"&\"+password\n",
    "m = hashlib.md5()\n",
    "m.update(password.encode('utf-8'))\n",
    "print(m.hexdigest())"
   ]
  },
  {
   "cell_type": "code",
   "execution_count": 93,
   "metadata": {},
   "outputs": [
    {
     "data": {
      "text/plain": [
       "0.15"
      ]
     },
     "execution_count": 93,
     "metadata": {},
     "output_type": "execute_result"
    }
   ],
   "source": [
    "round(0.155,2)"
   ]
  },
  {
   "cell_type": "code",
   "execution_count": null,
   "metadata": {},
   "outputs": [],
   "source": [
    "import ipaddress\n",
    "addr = input()\n",
    "mask = int(input())\n",
    "net = ipaddress.ip_network(addr+\"/\"+str(mask))\n",
    "res = net.mask"
   ]
  },
  {
   "cell_type": "code",
   "execution_count": null,
   "metadata": {},
   "outputs": [],
   "source": []
  },
  {
   "cell_type": "code",
   "execution_count": null,
   "metadata": {},
   "outputs": [],
   "source": []
  }
 ],
 "metadata": {
  "kernelspec": {
   "display_name": "Python 3",
   "language": "python",
   "name": "python3"
  },
  "language_info": {
   "codemirror_mode": {
    "name": "ipython",
    "version": 3
   },
   "file_extension": ".py",
   "mimetype": "text/x-python",
   "name": "python",
   "nbconvert_exporter": "python",
   "pygments_lexer": "ipython3",
   "version": "3.7.1"
  }
 },
 "nbformat": 4,
 "nbformat_minor": 2
}
