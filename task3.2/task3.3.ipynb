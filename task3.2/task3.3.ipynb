{
 "cells": [
  {
   "cell_type": "code",
   "execution_count": 64,
   "metadata": {},
   "outputs": [],
   "source": [
    "import pandas as pd\n",
    "import numpy as np\n",
    "from math import *\n",
    "from sklearn.metrics import roc_auc_score"
   ]
  },
  {
   "cell_type": "code",
   "execution_count": 65,
   "metadata": {},
   "outputs": [
    {
     "name": "stdout",
     "output_type": "stream",
     "text": [
      "   y        x1        x2\n",
      "0 -1 -0.663827 -0.138526\n",
      "1  1  1.994596  2.468025\n",
      "2 -1 -1.247395  0.749425\n",
      "3  1  2.309374  1.899836\n",
      "4  1  0.849143  2.407750\n"
     ]
    }
   ],
   "source": [
    "df = pd.read_csv('data-logistic.csv')\n",
    "print(df.head())"
   ]
  },
  {
   "cell_type": "code",
   "execution_count": 66,
   "metadata": {},
   "outputs": [],
   "source": [
    "y = df['y']\n",
    "x1 = df['x1']\n",
    "x2 = df['x2']"
   ]
  },
  {
   "cell_type": "code",
   "execution_count": 72,
   "metadata": {},
   "outputs": [],
   "source": [
    "#vars init\n",
    "k = 0.1 #gradient step\n",
    "C = 10 #regular\n",
    "l = y.size #dataframe size\n",
    "w1 = 0.0 #start values\n",
    "w2 = 0.0\n",
    "w1p = 0.0 #for one moment updated\n",
    "w2p = 0.0"
   ]
  },
  {
   "cell_type": "code",
   "execution_count": null,
   "metadata": {},
   "outputs": [],
   "source": []
  },
  {
   "cell_type": "code",
   "execution_count": 73,
   "metadata": {},
   "outputs": [],
   "source": [
    "for j in range(10000):\n",
    "    w1p = w1\n",
    "    w2p = w2\n",
    "    w1r=0.0\n",
    "    w2r=0.0\n",
    "    for i in range(l):\n",
    "        w1r+=y[i]*x1[i]*(1-1/(1+math.exp(-y[i]*(w1p*x1[i]+w2p*x2[i]))))\n",
    "        w2r+=y[i]*x2[i]*(1-1/(1+math.exp(-y[i]*(w1p*x1[i]+w2p*x2[i]))))\n",
    "    w1 = w1p+k/l*w1r\n",
    "    w2 = w2p+k/l*w2r\n",
    "    if abs(w1p-w1)<(10**(-5)) and abs(w2p-w2)<(10**(-5)):\n",
    "        break;\n",
    "        \n",
    "        "
   ]
  },
  {
   "cell_type": "code",
   "execution_count": 74,
   "metadata": {},
   "outputs": [],
   "source": [
    "y1 = [0]*l\n",
    "for i in range(l):\n",
    "    y1[i]= 1/(1 + math.exp(-w1*x1[i] - w2*x2[i]))"
   ]
  },
  {
   "cell_type": "code",
   "execution_count": 75,
   "metadata": {},
   "outputs": [
    {
     "name": "stdout",
     "output_type": "stream",
     "text": [
      "0.9268571428571428\n"
     ]
    }
   ],
   "source": [
    "r = roc_auc_score(y_true=y,y_score=y1)\n",
    "print(r)  "
   ]
  },
  {
   "cell_type": "code",
   "execution_count": 79,
   "metadata": {},
   "outputs": [],
   "source": [
    "for j in range(10000):\n",
    "    w1p = w1\n",
    "    w2p = w2\n",
    "    w1r=0.0\n",
    "    w2r=0.0\n",
    "    for i in range(l):\n",
    "        w1r+=y[i]*x1[i]*(1-1/(1+math.exp(-y[i]*(w1p*x1[i]+w2p*x2[i]))))\n",
    "        w2r+=y[i]*x2[i]*(1-1/(1+math.exp(-y[i]*(w1p*x1[i]+w2p*x2[i]))))\n",
    "    w1 = w1p+k/l*w1r-k*C*w1p\n",
    "    w2 = w2p+k/l*w2r-k*C*w2p\n",
    "    if abs(w1p-w1)<(10**(-5)) and abs(w2p-w2)<(10**(-5)):\n",
    "        break;\n",
    "        "
   ]
  },
  {
   "cell_type": "code",
   "execution_count": 80,
   "metadata": {},
   "outputs": [],
   "source": [
    "y2 = [0]*l\n",
    "for i in range(l):\n",
    "    y2[i]= 1/(1 + math.exp(-w1*x1[i] - w2*x2[i]))\n"
   ]
  },
  {
   "cell_type": "code",
   "execution_count": 81,
   "metadata": {},
   "outputs": [
    {
     "name": "stdout",
     "output_type": "stream",
     "text": [
      "0.9362857142857142\n"
     ]
    }
   ],
   "source": [
    "r = roc_auc_score(y_true=y,y_score=y2)\n",
    "print(r)  "
   ]
  },
  {
   "cell_type": "code",
   "execution_count": null,
   "metadata": {},
   "outputs": [],
   "source": []
  }
 ],
 "metadata": {
  "kernelspec": {
   "display_name": "Python 3",
   "language": "python",
   "name": "python3"
  },
  "language_info": {
   "codemirror_mode": {
    "name": "ipython",
    "version": 3
   },
   "file_extension": ".py",
   "mimetype": "text/x-python",
   "name": "python",
   "nbconvert_exporter": "python",
   "pygments_lexer": "ipython3",
   "version": "3.7.1"
  }
 },
 "nbformat": 4,
 "nbformat_minor": 2
}
