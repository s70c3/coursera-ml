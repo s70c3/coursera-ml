{
 "cells": [
  {
   "cell_type": "code",
   "execution_count": 1,
   "metadata": {},
   "outputs": [],
   "source": [
    "import pandas as pd\n",
    "import numpy as np\n",
    "\n",
    "from sklearn.decomposition import PCA"
   ]
  },
  {
   "cell_type": "code",
   "execution_count": 28,
   "metadata": {},
   "outputs": [],
   "source": [
    "df = pd.read_csv('close_prices.csv')\n",
    "dd = pd.read_csv('djia_index.csv')\n"
   ]
  },
  {
   "cell_type": "code",
   "execution_count": 29,
   "metadata": {},
   "outputs": [
    {
     "name": "stdout",
     "output_type": "stream",
     "text": [
      "0.9277429537836402\n"
     ]
    }
   ],
   "source": [
    "pca = PCA(n_components=4)\n",
    "pca.fit(df.loc[:,'AXP':])\n",
    "#task1\n",
    "print(sum(pca.explained_variance_ratio_))"
   ]
  },
  {
   "cell_type": "code",
   "execution_count": 49,
   "metadata": {},
   "outputs": [],
   "source": [
    "#task2\n",
    "pca_out = pca.transform(df.loc[:,'AXP':])\n",
    "#print(len(pca_out))\n",
    "first_c = [0]*374\n",
    "for i in range(len(pca_out)):\n",
    "    first_c[i]=pca_out[i][0]"
   ]
  },
  {
   "cell_type": "code",
   "execution_count": 51,
   "metadata": {},
   "outputs": [
    {
     "name": "stdout",
     "output_type": "stream",
     "text": [
      "[[1.         0.90965222]\n",
      " [0.90965222 1.        ]]\n"
     ]
    }
   ],
   "source": [
    "\n",
    "pirson = np.corrcoef(first_c,dd['DJI'])\n",
    "print(pirson)"
   ]
  },
  {
   "cell_type": "code",
   "execution_count": 57,
   "metadata": {},
   "outputs": [
    {
     "name": "stdout",
     "output_type": "stream",
     "text": [
      "0.5796839457473608\n",
      "[[ 1.61383840e-02  1.20644923e-01 -5.16612711e-02  5.04842369e-02\n",
      "  -1.25859933e-01  1.14089567e-01  2.33906290e-01 -6.20513749e-03\n",
      "   2.51227032e-01  2.88996029e-01 -2.64998795e-01  9.31320168e-02\n",
      "   9.13948403e-02  4.69879340e-02  2.90549417e-02 -2.61068828e-02\n",
      "   3.29615584e-01  7.13897133e-02  7.62295699e-02  2.11888868e-01\n",
      "   2.30922941e-02  7.77316954e-02 -7.20594590e-03  1.89479745e-01\n",
      "   3.21564017e-01  5.36834873e-02  5.79683946e-01  1.09122230e-04\n",
      "   8.71614334e-02 -4.29421420e-02]\n",
      " [-2.33025791e-01  1.38102207e-01 -5.64736227e-01 -2.94213771e-02\n",
      "  -2.97156167e-01 -7.00723638e-02 -2.41633004e-01 -2.26028350e-02\n",
      "  -1.05527180e-01  3.16032026e-02 -3.56926513e-01 -1.51980885e-01\n",
      "  -2.76101639e-01 -6.73887479e-02 -5.03438625e-02 -5.87043804e-02\n",
      "  -2.17410195e-01 -1.90769246e-01 -1.66275222e-01  2.25387182e-02\n",
      "   4.07006441e-02 -1.86523497e-02 -3.55593965e-02 -7.67098774e-02\n",
      "  -5.41168982e-02 -1.82997954e-03  1.06387814e-01 -3.21923154e-02\n",
      "   5.03033207e-02 -2.57983104e-01]\n",
      " [-1.05902102e-01 -4.73844545e-01 -5.37487494e-02  7.20638781e-03\n",
      "  -4.84014835e-02 -6.66524068e-02 -4.53663481e-02 -3.17864061e-02\n",
      "   3.48308747e-01  1.42316297e-01 -2.06736652e-01  1.59192377e-01\n",
      "   1.16708078e-01  1.30026185e-02  4.34870459e-02 -1.87096064e-01\n",
      "  -8.54676853e-02 -1.03314831e-02  1.51788920e-01  2.58569260e-01\n",
      "  -7.07110772e-02  1.35307492e-01 -1.10443628e-03  9.18773088e-02\n",
      "   7.20122232e-02 -4.33767778e-01 -3.75349831e-01  2.22521778e-02\n",
      "  -1.29157960e-02 -1.64834697e-01]\n",
      " [-3.26935606e-01  4.45168360e-01 -2.30866221e-01  5.59195533e-02\n",
      "   1.24083842e-01  9.84642122e-02  2.19909398e-01  2.88787430e-03\n",
      "  -5.18013866e-02  3.06423549e-01  2.16240945e-01  2.64952190e-02\n",
      "   4.29749373e-02 -5.55173866e-02  4.05826204e-02  6.74128873e-02\n",
      "   1.12391739e-01 -3.37610856e-02 -2.82940804e-02 -6.31182333e-03\n",
      "   5.82471614e-03 -4.07143250e-02  5.12738420e-02  1.89204055e-01\n",
      "   2.97420842e-01  2.15003670e-02 -5.10709967e-01  5.56078539e-02\n",
      "   2.58145605e-02 -4.06763771e-02]]\n"
     ]
    }
   ],
   "source": [
    "#task3\n",
    "\n",
    "print(max(pca.components_[0]))\n",
    "print(pca.components_)"
   ]
  },
  {
   "cell_type": "code",
   "execution_count": 53,
   "metadata": {},
   "outputs": [
    {
     "name": "stdout",
     "output_type": "stream",
     "text": [
      "88.95395498566246\n"
     ]
    }
   ],
   "source": []
  },
  {
   "cell_type": "code",
   "execution_count": null,
   "metadata": {},
   "outputs": [],
   "source": []
  }
 ],
 "metadata": {
  "kernelspec": {
   "display_name": "Python 3",
   "language": "python",
   "name": "python3"
  },
  "language_info": {
   "codemirror_mode": {
    "name": "ipython",
    "version": 3
   },
   "file_extension": ".py",
   "mimetype": "text/x-python",
   "name": "python",
   "nbconvert_exporter": "python",
   "pygments_lexer": "ipython3",
   "version": "3.7.1"
  }
 },
 "nbformat": 4,
 "nbformat_minor": 2
}
