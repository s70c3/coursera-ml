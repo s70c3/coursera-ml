{
 "cells": [
  {
   "cell_type": "code",
   "execution_count": 29,
   "metadata": {},
   "outputs": [],
   "source": [
    "import pandas\n",
    "import numpy as np\n",
    "from sklearn.model_selection import KFold, cross_val_score\n",
    "from sklearn.neighbors import KNeighborsClassifier\n",
    "from sklearn.preprocessing import scale\n",
    "df = pandas.read_csv('wine.data')\n",
    "wineClass = df['classId']\n",
    "wineAttr = df.drop('classId', 1)\n",
    "neighbors = 50"
   ]
  },
  {
   "cell_type": "code",
   "execution_count": 30,
   "metadata": {},
   "outputs": [],
   "source": [
    "generator = KFold(n_splits=5,shuffle=True, random_state=42)\n"
   ]
  },
  {
   "cell_type": "code",
   "execution_count": 27,
   "metadata": {},
   "outputs": [
    {
     "name": "stdout",
     "output_type": "stream",
     "text": [
      "(1, 0.7304761904761905)\n",
      "(2, 0.6625396825396825)\n",
      "(3, 0.7082539682539682)\n",
      "(4, 0.6577777777777778)\n",
      "(5, 0.6746031746031746)\n",
      "(6, 0.6742857142857144)\n",
      "(7, 0.68)\n",
      "(8, 0.6799999999999999)\n",
      "(9, 0.7023809523809523)\n",
      "(10, 0.6801587301587302)\n",
      "(11, 0.7025396825396826)\n",
      "(12, 0.6966666666666667)\n",
      "(13, 0.6909523809523809)\n",
      "(14, 0.6793650793650794)\n",
      "(15, 0.701904761904762)\n",
      "(16, 0.6795238095238096)\n",
      "(17, 0.7015873015873015)\n",
      "(18, 0.6795238095238095)\n",
      "(19, 0.6793650793650793)\n",
      "(20, 0.6909523809523809)\n",
      "(21, 0.7019047619047619)\n",
      "(22, 0.6965079365079364)\n",
      "(23, 0.7020634920634921)\n",
      "(24, 0.7076190476190476)\n",
      "(25, 0.7019047619047619)\n",
      "(26, 0.6965079365079365)\n",
      "(27, 0.6963492063492064)\n",
      "(28, 0.7079365079365079)\n",
      "(29, 0.7134920634920634)\n",
      "(30, 0.7079365079365079)\n",
      "(31, 0.690952380952381)\n",
      "(32, 0.7134920634920634)\n",
      "(33, 0.7134920634920634)\n",
      "(34, 0.7246031746031747)\n",
      "(35, 0.7246031746031747)\n",
      "(36, 0.7134920634920636)\n",
      "(37, 0.7134920634920634)\n",
      "(38, 0.7134920634920634)\n",
      "(39, 0.7079365079365079)\n",
      "(40, 0.7077777777777777)\n",
      "(41, 0.7134920634920634)\n",
      "(42, 0.7077777777777777)\n",
      "(43, 0.7077777777777777)\n",
      "(44, 0.7077777777777777)\n",
      "(45, 0.7077777777777777)\n",
      "(46, 0.7077777777777777)\n",
      "(47, 0.6966666666666667)\n",
      "(48, 0.7190476190476192)\n",
      "(49, 0.6966666666666667)\n",
      "(50, 0.7077777777777777)\n"
     ]
    }
   ],
   "source": [
    "for i in range(1, neighbors+1):\n",
    "    classificator = KNeighborsClassifier(n_neighbors=i)\n",
    "    quality = cross_val_score(X=wineAttr, y=wineClass, estimator=classificator, cv=generator, scoring='accuracy')\n",
    "    print((i, np.mean(quality)))"
   ]
  },
  {
   "cell_type": "code",
   "execution_count": 31,
   "metadata": {},
   "outputs": [
    {
     "name": "stderr",
     "output_type": "stream",
     "text": [
      "/Library/Frameworks/Python.framework/Versions/3.7/lib/python3.7/site-packages/ipykernel_launcher.py:1: DataConversionWarning: Data with input dtype int64, float64 were all converted to float64 by the scale function.\n",
      "  \"\"\"Entry point for launching an IPython kernel.\n"
     ]
    }
   ],
   "source": [
    "newX = scale(X=wineAttr)"
   ]
  },
  {
   "cell_type": "code",
   "execution_count": 32,
   "metadata": {},
   "outputs": [
    {
     "name": "stdout",
     "output_type": "stream",
     "text": [
      "(1, 0.943968253968254)\n",
      "(2, 0.9328571428571429)\n",
      "(3, 0.9550793650793651)\n",
      "(4, 0.9382539682539683)\n",
      "(5, 0.9493650793650794)\n",
      "(6, 0.9495238095238095)\n",
      "(7, 0.9495238095238095)\n",
      "(8, 0.9552380952380952)\n",
      "(9, 0.9607936507936508)\n",
      "(10, 0.9607936507936508)\n",
      "(11, 0.9609523809523809)\n",
      "(12, 0.9552380952380952)\n",
      "(13, 0.9495238095238093)\n",
      "(14, 0.9663492063492063)\n",
      "(15, 0.9720634920634922)\n",
      "(16, 0.9720634920634922)\n",
      "(17, 0.9665079365079364)\n",
      "(18, 0.9665079365079364)\n",
      "(19, 0.9553968253968254)\n",
      "(20, 0.9665079365079364)\n",
      "(21, 0.9609523809523811)\n",
      "(22, 0.9665079365079364)\n",
      "(23, 0.9609523809523809)\n",
      "(24, 0.9552380952380952)\n",
      "(25, 0.9552380952380952)\n",
      "(26, 0.9607936507936508)\n",
      "(27, 0.9552380952380952)\n",
      "(28, 0.9663492063492063)\n",
      "(29, 0.9776190476190475)\n",
      "(30, 0.9607936507936508)\n",
      "(31, 0.9552380952380952)\n",
      "(32, 0.9607936507936508)\n",
      "(33, 0.9663492063492063)\n",
      "(34, 0.9663492063492063)\n",
      "(35, 0.9607936507936508)\n",
      "(36, 0.9607936507936508)\n",
      "(37, 0.9552380952380952)\n",
      "(38, 0.9607936507936508)\n",
      "(39, 0.9607936507936508)\n",
      "(40, 0.9607936507936508)\n",
      "(41, 0.9663492063492063)\n",
      "(42, 0.9607936507936508)\n",
      "(43, 0.9663492063492063)\n",
      "(44, 0.9606349206349206)\n",
      "(45, 0.9663492063492063)\n",
      "(46, 0.9495238095238095)\n",
      "(47, 0.9550793650793651)\n",
      "(48, 0.9495238095238095)\n",
      "(49, 0.9550793650793651)\n",
      "(50, 0.9606349206349206)\n"
     ]
    }
   ],
   "source": [
    "for i in range(1, neighbors+1):\n",
    "    classificator = KNeighborsClassifier(n_neighbors=i)\n",
    "    quality = cross_val_score(X=newX, y=wineClass, estimator=classificator, cv=generator, scoring='accuracy')\n",
    "    print((i, np.mean(quality)))"
   ]
  },
  {
   "cell_type": "code",
   "execution_count": null,
   "metadata": {},
   "outputs": [],
   "source": []
  }
 ],
 "metadata": {
  "kernelspec": {
   "display_name": "Python 3",
   "language": "python",
   "name": "python3"
  },
  "language_info": {
   "codemirror_mode": {
    "name": "ipython",
    "version": 3
   },
   "file_extension": ".py",
   "mimetype": "text/x-python",
   "name": "python",
   "nbconvert_exporter": "python",
   "pygments_lexer": "ipython3",
   "version": "3.7.1"
  }
 },
 "nbformat": 4,
 "nbformat_minor": 2
}
